{
 "cells": [
  {
   "attachments": {},
   "cell_type": "markdown",
   "metadata": {},
   "source": [
    "## Memory Mountain\n",
    "Introduced in [lecture 12](https://onedrive.live.com/view.aspx?resid=EA543277021158B0%218920&id=documents&wd=target%28CSAPP.one%7CF603253D-4634-4C54-A6B8-9C79B980B673%2FLecture%2012%3A%20Cache%20Memories%7C56A4C611-167C-4B34-9621-C255C15A349C%2F%29onenote:https://d.docs.live.net/ea543277021158b0/Docs/UCW/CSAPP.one#Lecture%2012%20Cache%20Memories&section-id={F603253D-4634-4C54-A6B8-9C79B980B673}&page-id={56A4C611-167C-4B34-9621-C255C15A349C}&end) of CSAPP.\n"
   ]
  },
  {
   "cell_type": "code",
   "execution_count": 9,
   "metadata": {},
   "outputs": [
    {
     "data": {
      "text/plain": [
       "CompletedProcess(args=['./generate_mountain_data.sh'], returncode=0)"
      ]
     },
     "execution_count": 9,
     "metadata": {},
     "output_type": "execute_result"
    }
   ],
   "source": [
    "import subprocess\n",
    "\n",
    "# generate data file \"mountain_data.txt\"\n",
    "subprocess.run(['./generate_mountain_data.sh'])"
   ]
  },
  {
   "cell_type": "code",
   "execution_count": 3,
   "metadata": {},
   "outputs": [],
   "source": [
    "import pandas as pd\n",
    "\n",
    "import plotly\n",
    "import plotly.plotly as py\n",
    "import plotly.graph_objs as go\n",
    "\n",
    "plotly.tools.set_credentials_file(username='hyqLeonardo', api_key='b8QnbpE3CHUetvwsHUxm')"
   ]
  },
  {
   "cell_type": "code",
   "execution_count": 10,
   "metadata": {},
   "outputs": [
    {
     "name": "stdout",
     "output_type": "stream",
     "text": [
      "          s1     s2     s3     s4     s5     s6     s7     s8     s9    s10  \\\n",
      "size                                                                          \n",
      "128m   12552   6704   4856   3577   2953   2424   2076   1786   1636   1547   \n",
      "64m    14305   7617   4796   3613   2933   2433   2098   1840   1697   1612   \n",
      "32m    14580   7720   4819   3655   2794   2457   2092   1860   1710   1598   \n",
      "16m    14752   8164   4902   3968   3227   2668   2307   2057   1903   1725   \n",
      "8m     29368  19923  14223  10929   8862   7409   6433   5696   5369   5082   \n",
      "4m     30721  21021  14896  11377   9153   7694   6657   5866   5512   5216   \n",
      "2m     30614  21016  14944  11377   9169   7693   6644   5873   5507   5231   \n",
      "1024k  30573  20894  14861  11362   9121   7675   6627   5854   5498   5211   \n",
      "512k   30735  21082  14880  11319   9135   7688   6665   5838   5483   5211   \n",
      "256k   31363  24778  20404  16669  13607  11625  10003   8804   8547   8262   \n",
      "128k   31914  27971  26439  23284  20253  16881  14469  12923  12991  13024   \n",
      "64k    31878  27820  27133  24038  19813  16855  14400  13369  12953  13055   \n",
      "32k    34228  33378  33293  31933  31787  30269  30262  29360  29662  30929   \n",
      "16k    34170  33489  32567  31500  30929  30631  29786  28966  27648  27610   \n",
      "\n",
      "         s11    s12    s13    s14    s15  \n",
      "size                                      \n",
      "128m    1468   1353   1345   1332   1342  \n",
      "64m     1487   1396   1382   1361   1341  \n",
      "32m     1486   1395   1343   1327   1362  \n",
      "16m     1455   1670   1673   1684   1700  \n",
      "8m      4853   4663   4544   4493   4432  \n",
      "4m      4971   4782   4667   4569   4507  \n",
      "2m      4983   4789   4659   4571   4508  \n",
      "1024k   4950   4760   4662   4570   4485  \n",
      "512k    4994   4812   4693   4674   4688  \n",
      "256k    8124   7878   7893   7841   8057  \n",
      "128k   12944  13048  13193  13046  13209  \n",
      "64k    13144  12997  12968  13802  21619  \n",
      "32k    30201  30631  29070  29786  28388  \n",
      "16k    25098  23994  25697  26497  24730  \n"
     ]
    }
   ],
   "source": [
    "# Read data from a csv\n",
    "dataframe = pd.read_csv('mountain_data.txt', sep=\"\\t\")\n",
    "dataframe = dataframe.set_index(\"size\")\n",
    "print(dataframe)"
   ]
  },
  {
   "cell_type": "code",
   "execution_count": 11,
   "metadata": {},
   "outputs": [
    {
     "data": {
      "text/html": [
       "<iframe id=\"igraph\" scrolling=\"no\" style=\"border:none;\" seamless=\"seamless\" src=\"https://plot.ly/~hyqLeonardo/39.embed\" height=\"600px\" width=\"900px\"></iframe>"
      ],
      "text/plain": [
       "<plotly.tools.PlotlyDisplay object>"
      ]
     },
     "execution_count": 11,
     "metadata": {},
     "output_type": "execute_result"
    }
   ],
   "source": [
    "data = [\n",
    "    go.Surface(\n",
    "        z=dataframe.values\n",
    "    )\n",
    "]\n",
    "\n",
    "layout = go.Layout(\n",
    "    title='Memory Mountain',\n",
    "    scene = dict(\n",
    "        xaxis=dict(\n",
    "            ticktext = dataframe.columns,\n",
    "            tickvals = list(range(14)),\n",
    "            nticks = 9,\n",
    "            title='Stride (x8 bytes)'\n",
    "        ),\n",
    "        yaxis=dict(\n",
    "            ticktext = dataframe.index,\n",
    "            tickvals = list(range(13)),\n",
    "            nticks = 7,\n",
    "            title='Size (bytes)'\n",
    "        ),\n",
    "        zaxis=dict(\n",
    "            title='Read throughput (MB/s)',\n",
    "            backgroundcolor=\"rgb(200, 200, 200)\",\n",
    "            showbackground=True\n",
    "        )\n",
    "    ),\n",
    "    autosize=False,\n",
    "    width=900,\n",
    "    height=600\n",
    ")\n",
    "fig = go.Figure(data=data, layout=layout)\n",
    "py.iplot(fig, filename='memory-mountain')"
   ]
  },
  {
   "cell_type": "code",
   "execution_count": null,
   "metadata": {},
   "outputs": [],
   "source": []
  }
 ],
 "metadata": {
  "kernelspec": {
   "display_name": "Python 3",
   "language": "python",
   "name": "python3"
  },
  "language_info": {
   "codemirror_mode": {
    "name": "ipython",
    "version": 3
   },
   "file_extension": ".py",
   "mimetype": "text/x-python",
   "name": "python",
   "nbconvert_exporter": "python",
   "pygments_lexer": "ipython3",
   "version": "3.6.7"
  }
 },
 "nbformat": 4,
 "nbformat_minor": 2
}
